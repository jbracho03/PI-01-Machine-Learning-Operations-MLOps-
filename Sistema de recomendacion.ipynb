{
 "cells": [
  {
   "cell_type": "code",
   "execution_count": 80,
   "metadata": {},
   "outputs": [],
   "source": [
    "import numpy as np\n",
    "import matplotlib.pyplot as plt\n",
    "import seaborn as sns\n",
    "sns.set()\n",
    "\n",
    "import pandas as pd\n",
    "\n",
    "import gc #garbage collector"
   ]
  },
  {
   "cell_type": "code",
   "execution_count": 81,
   "metadata": {},
   "outputs": [],
   "source": [
    "from surprise import SVD\n",
    "from surprise import Dataset, SVDpp\n",
    "from surprise import Reader\n",
    "from surprise.model_selection import train_test_split"
   ]
  },
  {
   "cell_type": "code",
   "execution_count": 82,
   "metadata": {},
   "outputs": [],
   "source": [
    "from surprise import accuracy\n",
    "from collections import defaultdict"
   ]
  },
  {
   "cell_type": "code",
   "execution_count": 83,
   "metadata": {},
   "outputs": [],
   "source": [
    "data = pd.read_csv('Datos_ratings.csv')"
   ]
  },
  {
   "cell_type": "code",
   "execution_count": 84,
   "metadata": {},
   "outputs": [],
   "source": [
    "data = data.drop(['index'], axis=1)"
   ]
  },
  {
   "cell_type": "code",
   "execution_count": 85,
   "metadata": {},
   "outputs": [
    {
     "data": {
      "text/html": [
       "<div>\n",
       "<style scoped>\n",
       "    .dataframe tbody tr th:only-of-type {\n",
       "        vertical-align: middle;\n",
       "    }\n",
       "\n",
       "    .dataframe tbody tr th {\n",
       "        vertical-align: top;\n",
       "    }\n",
       "\n",
       "    .dataframe thead th {\n",
       "        text-align: right;\n",
       "    }\n",
       "</style>\n",
       "<table border=\"1\" class=\"dataframe\">\n",
       "  <thead>\n",
       "    <tr style=\"text-align: right;\">\n",
       "      <th></th>\n",
       "      <th>userId</th>\n",
       "      <th>score</th>\n",
       "      <th>movieId</th>\n",
       "    </tr>\n",
       "  </thead>\n",
       "  <tbody>\n",
       "    <tr>\n",
       "      <th>0</th>\n",
       "      <td>1</td>\n",
       "      <td>1.0</td>\n",
       "      <td>as680</td>\n",
       "    </tr>\n",
       "    <tr>\n",
       "      <th>1</th>\n",
       "      <td>1</td>\n",
       "      <td>4.5</td>\n",
       "      <td>ns2186</td>\n",
       "    </tr>\n",
       "    <tr>\n",
       "      <th>2</th>\n",
       "      <td>1</td>\n",
       "      <td>5.0</td>\n",
       "      <td>hs2381</td>\n",
       "    </tr>\n",
       "    <tr>\n",
       "      <th>3</th>\n",
       "      <td>1</td>\n",
       "      <td>5.0</td>\n",
       "      <td>ns3663</td>\n",
       "    </tr>\n",
       "    <tr>\n",
       "      <th>4</th>\n",
       "      <td>1</td>\n",
       "      <td>5.0</td>\n",
       "      <td>as9500</td>\n",
       "    </tr>\n",
       "    <tr>\n",
       "      <th>...</th>\n",
       "      <td>...</td>\n",
       "      <td>...</td>\n",
       "      <td>...</td>\n",
       "    </tr>\n",
       "    <tr>\n",
       "      <th>12524284</th>\n",
       "      <td>124380</td>\n",
       "      <td>4.5</td>\n",
       "      <td>ns5272</td>\n",
       "    </tr>\n",
       "    <tr>\n",
       "      <th>12524285</th>\n",
       "      <td>124380</td>\n",
       "      <td>2.5</td>\n",
       "      <td>ns5492</td>\n",
       "    </tr>\n",
       "    <tr>\n",
       "      <th>12524286</th>\n",
       "      <td>124380</td>\n",
       "      <td>3.5</td>\n",
       "      <td>hs305</td>\n",
       "    </tr>\n",
       "    <tr>\n",
       "      <th>12524287</th>\n",
       "      <td>124380</td>\n",
       "      <td>4.5</td>\n",
       "      <td>ns7881</td>\n",
       "    </tr>\n",
       "    <tr>\n",
       "      <th>12524288</th>\n",
       "      <td>124380</td>\n",
       "      <td>1.5</td>\n",
       "      <td>as883</td>\n",
       "    </tr>\n",
       "  </tbody>\n",
       "</table>\n",
       "<p>12524289 rows × 3 columns</p>\n",
       "</div>"
      ],
      "text/plain": [
       "          userId  score movieId\n",
       "0              1    1.0   as680\n",
       "1              1    4.5  ns2186\n",
       "2              1    5.0  hs2381\n",
       "3              1    5.0  ns3663\n",
       "4              1    5.0  as9500\n",
       "...          ...    ...     ...\n",
       "12524284  124380    4.5  ns5272\n",
       "12524285  124380    2.5  ns5492\n",
       "12524286  124380    3.5   hs305\n",
       "12524287  124380    4.5  ns7881\n",
       "12524288  124380    1.5   as883\n",
       "\n",
       "[12524289 rows x 3 columns]"
      ]
     },
     "execution_count": 85,
     "metadata": {},
     "output_type": "execute_result"
    }
   ],
   "source": [
    "data"
   ]
  },
  {
   "cell_type": "code",
   "execution_count": 86,
   "metadata": {},
   "outputs": [],
   "source": [
    "movies = pd.read_csv('Datos_PI_2.csv')"
   ]
  },
  {
   "cell_type": "code",
   "execution_count": 87,
   "metadata": {},
   "outputs": [],
   "source": [
    "df_movies = movies.drop(['show_id','type', 'director', 'cast', 'country', 'date_added',\t'release_year',\t'rating', 'duration', 'duration_int', 'duration_type', 'description', 'ScoreMedia', 'index',  'userId'], axis=1)"
   ]
  },
  {
   "cell_type": "code",
   "execution_count": 89,
   "metadata": {},
   "outputs": [
    {
     "data": {
      "text/html": [
       "<div>\n",
       "<style scoped>\n",
       "    .dataframe tbody tr th:only-of-type {\n",
       "        vertical-align: middle;\n",
       "    }\n",
       "\n",
       "    .dataframe tbody tr th {\n",
       "        vertical-align: top;\n",
       "    }\n",
       "\n",
       "    .dataframe thead th {\n",
       "        text-align: right;\n",
       "    }\n",
       "</style>\n",
       "<table border=\"1\" class=\"dataframe\">\n",
       "  <thead>\n",
       "    <tr style=\"text-align: right;\">\n",
       "      <th></th>\n",
       "      <th>title</th>\n",
       "      <th>listed_in</th>\n",
       "      <th>id</th>\n",
       "    </tr>\n",
       "  </thead>\n",
       "  <tbody>\n",
       "    <tr>\n",
       "      <th>0</th>\n",
       "      <td>the grand seduction</td>\n",
       "      <td>comedy, drama</td>\n",
       "      <td>as1</td>\n",
       "    </tr>\n",
       "    <tr>\n",
       "      <th>1</th>\n",
       "      <td>take care good night</td>\n",
       "      <td>drama, international</td>\n",
       "      <td>as2</td>\n",
       "    </tr>\n",
       "    <tr>\n",
       "      <th>2</th>\n",
       "      <td>secrets of deception</td>\n",
       "      <td>action, drama, suspense</td>\n",
       "      <td>as3</td>\n",
       "    </tr>\n",
       "    <tr>\n",
       "      <th>3</th>\n",
       "      <td>pink: staying true</td>\n",
       "      <td>documentary</td>\n",
       "      <td>as4</td>\n",
       "    </tr>\n",
       "    <tr>\n",
       "      <th>4</th>\n",
       "      <td>monster maker</td>\n",
       "      <td>drama, fantasy</td>\n",
       "      <td>as5</td>\n",
       "    </tr>\n",
       "    <tr>\n",
       "      <th>...</th>\n",
       "      <td>...</td>\n",
       "      <td>...</td>\n",
       "      <td>...</td>\n",
       "    </tr>\n",
       "    <tr>\n",
       "      <th>22993</th>\n",
       "      <td>zodiac</td>\n",
       "      <td>cult movies, dramas, thrillers</td>\n",
       "      <td>ns8803</td>\n",
       "    </tr>\n",
       "    <tr>\n",
       "      <th>22994</th>\n",
       "      <td>zombie dumb</td>\n",
       "      <td>kids' tv, korean tv shows, tv comedies</td>\n",
       "      <td>ns8804</td>\n",
       "    </tr>\n",
       "    <tr>\n",
       "      <th>22995</th>\n",
       "      <td>zombieland</td>\n",
       "      <td>comedies, horror movies</td>\n",
       "      <td>ns8805</td>\n",
       "    </tr>\n",
       "    <tr>\n",
       "      <th>22996</th>\n",
       "      <td>zoom</td>\n",
       "      <td>children &amp; family movies, comedies</td>\n",
       "      <td>ns8806</td>\n",
       "    </tr>\n",
       "    <tr>\n",
       "      <th>22997</th>\n",
       "      <td>zubaan</td>\n",
       "      <td>dramas, international movies, music &amp; musicals</td>\n",
       "      <td>ns8807</td>\n",
       "    </tr>\n",
       "  </tbody>\n",
       "</table>\n",
       "<p>22998 rows × 3 columns</p>\n",
       "</div>"
      ],
      "text/plain": [
       "                      title                                       listed_in  \\\n",
       "0       the grand seduction                                   comedy, drama   \n",
       "1      take care good night                            drama, international   \n",
       "2      secrets of deception                         action, drama, suspense   \n",
       "3        pink: staying true                                     documentary   \n",
       "4             monster maker                                  drama, fantasy   \n",
       "...                     ...                                             ...   \n",
       "22993                zodiac                  cult movies, dramas, thrillers   \n",
       "22994           zombie dumb          kids' tv, korean tv shows, tv comedies   \n",
       "22995            zombieland                         comedies, horror movies   \n",
       "22996                  zoom              children & family movies, comedies   \n",
       "22997                zubaan  dramas, international movies, music & musicals   \n",
       "\n",
       "           id  \n",
       "0         as1  \n",
       "1         as2  \n",
       "2         as3  \n",
       "3         as4  \n",
       "4         as5  \n",
       "...       ...  \n",
       "22993  ns8803  \n",
       "22994  ns8804  \n",
       "22995  ns8805  \n",
       "22996  ns8806  \n",
       "22997  ns8807  \n",
       "\n",
       "[22998 rows x 3 columns]"
      ]
     },
     "execution_count": 89,
     "metadata": {},
     "output_type": "execute_result"
    }
   ],
   "source": [
    "df_movies"
   ]
  },
  {
   "cell_type": "code",
   "execution_count": 90,
   "metadata": {},
   "outputs": [],
   "source": [
    "df_movies = pd.merge(data, df_movies, left_on='movieId', right_on='id')"
   ]
  },
  {
   "cell_type": "code",
   "execution_count": 91,
   "metadata": {},
   "outputs": [],
   "source": [
    "df_movies = df_movies.drop(['id'], axis=1)"
   ]
  },
  {
   "cell_type": "code",
   "execution_count": 92,
   "metadata": {},
   "outputs": [
    {
     "data": {
      "text/html": [
       "<div>\n",
       "<style scoped>\n",
       "    .dataframe tbody tr th:only-of-type {\n",
       "        vertical-align: middle;\n",
       "    }\n",
       "\n",
       "    .dataframe tbody tr th {\n",
       "        vertical-align: top;\n",
       "    }\n",
       "\n",
       "    .dataframe thead th {\n",
       "        text-align: right;\n",
       "    }\n",
       "</style>\n",
       "<table border=\"1\" class=\"dataframe\">\n",
       "  <thead>\n",
       "    <tr style=\"text-align: right;\">\n",
       "      <th></th>\n",
       "      <th>userId</th>\n",
       "      <th>score</th>\n",
       "      <th>movieId</th>\n",
       "      <th>title</th>\n",
       "      <th>listed_in</th>\n",
       "    </tr>\n",
       "  </thead>\n",
       "  <tbody>\n",
       "    <tr>\n",
       "      <th>0</th>\n",
       "      <td>1</td>\n",
       "      <td>1.0</td>\n",
       "      <td>as680</td>\n",
       "      <td>the english civil war</td>\n",
       "      <td>documentary, special interest</td>\n",
       "    </tr>\n",
       "    <tr>\n",
       "      <th>1</th>\n",
       "      <td>583</td>\n",
       "      <td>4.5</td>\n",
       "      <td>as680</td>\n",
       "      <td>the english civil war</td>\n",
       "      <td>documentary, special interest</td>\n",
       "    </tr>\n",
       "    <tr>\n",
       "      <th>2</th>\n",
       "      <td>765</td>\n",
       "      <td>5.0</td>\n",
       "      <td>as680</td>\n",
       "      <td>the english civil war</td>\n",
       "      <td>documentary, special interest</td>\n",
       "    </tr>\n",
       "    <tr>\n",
       "      <th>3</th>\n",
       "      <td>2116</td>\n",
       "      <td>3.0</td>\n",
       "      <td>as680</td>\n",
       "      <td>the english civil war</td>\n",
       "      <td>documentary, special interest</td>\n",
       "    </tr>\n",
       "    <tr>\n",
       "      <th>4</th>\n",
       "      <td>2143</td>\n",
       "      <td>3.0</td>\n",
       "      <td>as680</td>\n",
       "      <td>the english civil war</td>\n",
       "      <td>documentary, special interest</td>\n",
       "    </tr>\n",
       "    <tr>\n",
       "      <th>...</th>\n",
       "      <td>...</td>\n",
       "      <td>...</td>\n",
       "      <td>...</td>\n",
       "      <td>...</td>\n",
       "      <td>...</td>\n",
       "    </tr>\n",
       "    <tr>\n",
       "      <th>12524284</th>\n",
       "      <td>123652</td>\n",
       "      <td>3.0</td>\n",
       "      <td>ns720</td>\n",
       "      <td>power rangers dino fury</td>\n",
       "      <td>kids' tv</td>\n",
       "    </tr>\n",
       "    <tr>\n",
       "      <th>12524285</th>\n",
       "      <td>123831</td>\n",
       "      <td>3.5</td>\n",
       "      <td>ns720</td>\n",
       "      <td>power rangers dino fury</td>\n",
       "      <td>kids' tv</td>\n",
       "    </tr>\n",
       "    <tr>\n",
       "      <th>12524286</th>\n",
       "      <td>123886</td>\n",
       "      <td>3.5</td>\n",
       "      <td>ns720</td>\n",
       "      <td>power rangers dino fury</td>\n",
       "      <td>kids' tv</td>\n",
       "    </tr>\n",
       "    <tr>\n",
       "      <th>12524287</th>\n",
       "      <td>123923</td>\n",
       "      <td>3.5</td>\n",
       "      <td>ns720</td>\n",
       "      <td>power rangers dino fury</td>\n",
       "      <td>kids' tv</td>\n",
       "    </tr>\n",
       "    <tr>\n",
       "      <th>12524288</th>\n",
       "      <td>124006</td>\n",
       "      <td>3.0</td>\n",
       "      <td>ns720</td>\n",
       "      <td>power rangers dino fury</td>\n",
       "      <td>kids' tv</td>\n",
       "    </tr>\n",
       "  </tbody>\n",
       "</table>\n",
       "<p>12524289 rows × 5 columns</p>\n",
       "</div>"
      ],
      "text/plain": [
       "          userId  score movieId                    title  \\\n",
       "0              1    1.0   as680    the english civil war   \n",
       "1            583    4.5   as680    the english civil war   \n",
       "2            765    5.0   as680    the english civil war   \n",
       "3           2116    3.0   as680    the english civil war   \n",
       "4           2143    3.0   as680    the english civil war   \n",
       "...          ...    ...     ...                      ...   \n",
       "12524284  123652    3.0   ns720  power rangers dino fury   \n",
       "12524285  123831    3.5   ns720  power rangers dino fury   \n",
       "12524286  123886    3.5   ns720  power rangers dino fury   \n",
       "12524287  123923    3.5   ns720  power rangers dino fury   \n",
       "12524288  124006    3.0   ns720  power rangers dino fury   \n",
       "\n",
       "                              listed_in  \n",
       "0         documentary, special interest  \n",
       "1         documentary, special interest  \n",
       "2         documentary, special interest  \n",
       "3         documentary, special interest  \n",
       "4         documentary, special interest  \n",
       "...                                 ...  \n",
       "12524284                       kids' tv  \n",
       "12524285                       kids' tv  \n",
       "12524286                       kids' tv  \n",
       "12524287                       kids' tv  \n",
       "12524288                       kids' tv  \n",
       "\n",
       "[12524289 rows x 5 columns]"
      ]
     },
     "execution_count": 92,
     "metadata": {},
     "output_type": "execute_result"
    }
   ],
   "source": [
    "df_movies"
   ]
  },
  {
   "cell_type": "code",
   "execution_count": 93,
   "metadata": {},
   "outputs": [],
   "source": [
    "reader = Reader()"
   ]
  },
  {
   "cell_type": "code",
   "execution_count": 94,
   "metadata": {},
   "outputs": [],
   "source": [
    "N_filas = 100000 # Limitamos el dataset a N_filas\n",
    "\n",
    "data = Dataset.load_from_df(data[['userId', 'movieId', 'score']][:N_filas], reader)"
   ]
  },
  {
   "cell_type": "code",
   "execution_count": 95,
   "metadata": {},
   "outputs": [
    {
     "name": "stdout",
     "output_type": "stream",
     "text": [
      "MAE:  0.7615\n",
      "RMSE: 0.9797\n"
     ]
    },
    {
     "data": {
      "text/plain": [
       "0.9797055257202059"
      ]
     },
     "execution_count": 95,
     "metadata": {},
     "output_type": "execute_result"
    }
   ],
   "source": [
    "#Separo en train y test\n",
    "train, test = train_test_split(data, test_size=0.25)\n",
    "\n",
    "#Instanciamos el algoritmo y entrenamos\n",
    "svd = SVDpp()\n",
    "svd.fit(train)\n",
    "preds = svd.test(test)\n",
    "\n",
    "#Métricas de evaluacion\n",
    "accuracy.mae(preds)\n",
    "accuracy.rmse(preds)"
   ]
  },
  {
   "cell_type": "code",
   "execution_count": 96,
   "metadata": {},
   "outputs": [],
   "source": [
    "# Creamos todo el dataset completo con Train y Test\n",
    "trainfull = data.build_full_trainset()"
   ]
  },
  {
   "cell_type": "code",
   "execution_count": 97,
   "metadata": {},
   "outputs": [
    {
     "data": {
      "text/plain": [
       "<surprise.prediction_algorithms.matrix_factorization.SVDpp at 0x20888f37820>"
      ]
     },
     "execution_count": 97,
     "metadata": {},
     "output_type": "execute_result"
    }
   ],
   "source": [
    "#Instanciamos de nuevo el algoritmo\n",
    "svd = SVDpp()\n",
    "#Entrenamos el algoritmo\n",
    "svd.fit(trainfull)"
   ]
  },
  {
   "cell_type": "code",
   "execution_count": 98,
   "metadata": {},
   "outputs": [
    {
     "data": {
      "text/plain": [
       "Prediction(uid=1, iid=1, r_ui=None, est=4.214333647156485, details={'was_impossible': False})"
      ]
     },
     "execution_count": 98,
     "metadata": {},
     "output_type": "execute_result"
    }
   ],
   "source": [
    "#realizamos una prediccion para ver que todo funciona\n",
    "svd.predict(uid=1, iid=1)"
   ]
  },
  {
   "cell_type": "code",
   "execution_count": 99,
   "metadata": {},
   "outputs": [],
   "source": [
    "#Creamos una función que pasandole, un usuario, un DataFrame, un algoritmo y el número de recomendaciones que queremos\n",
    "def recommend_system(userId, dataframe, algorithm, n_commends):\n",
    "    \"\"\"\n",
    "con los parametros, devuelve las mejores n peliculas.\n",
    "Parametros\n",
    "-----------\n",
    "userId: El Id de usuario de la persona que queremos recomendarle peliculas.\n",
    "dataframe: El dataframe que utilizamos.\n",
    "algoritmo: El algoritmo que creamos para recomendar peliculas.\n",
    "n_commends: El numero de peliculas recomendadas\n",
    "return\n",
    "------\n",
    "IDs de peliculas que a un usuario especifico le gustarian..\n",
    "    \"\"\"\n",
    "    movie_ids = dataframe['movieId'].to_list()\n",
    "    movies_watched = dataframe[dataframe[\"userId\"] == userId][\"movieId\"]\n",
    "    movies_no_watched = [movie for movie in movie_ids if movie not in movies_watched]\n",
    "\n",
    "    preds = [algorithm.predict(uid=userId, iid=movie) for movie in movies_no_watched]\n",
    "    commends_ratting = {pred[1]:pred[3] for pred in preds}\n",
    "    order_dict = {k: v for k, v in sorted(commends_ratting.items(), key=lambda item: item[1])}\n",
    "\n",
    "    top_predictions = list(order_dict.keys())[:n_commends]\n",
    "\n",
    "    return dataframe[dataframe[\"movieId\"].isin(top_predictions)][[\"title\"]].drop_duplicates()"
   ]
  },
  {
   "cell_type": "code",
   "execution_count": 100,
   "metadata": {},
   "outputs": [],
   "source": [
    "#Función que nos da las películas de un usuario que más le gustan, según la puntuación que le ha dado\n",
    "def check_movies_user(userId, dataframe, n):\n",
    "    return dataframe[dataframe[\"userId\"] ==userId].sort_values(\"score\", ascending=False)[:n] "
   ]
  },
  {
   "cell_type": "code",
   "execution_count": 101,
   "metadata": {},
   "outputs": [
    {
     "name": "stdout",
     "output_type": "stream",
     "text": [
      "Movies user likes:        userId  score movieId                                           title  \\\n",
      "14345       1    5.0  ns1310                        my teacher, my obsession   \n",
      "5515        1    5.0  ns7360                                      lucky days   \n",
      "11604       1    5.0   hs871                                     mayans m.c.   \n",
      "10513       1    5.0  as4340                                bright hill road   \n",
      "9947        1    5.0  as6909                                    mexican moon   \n",
      "9350        1    5.0  ns5413                                  criminal minds   \n",
      "8773        1    5.0  hs2056                    biography: the trump dynasty   \n",
      "8227        1    5.0  as1577                                       mr. robot   \n",
      "12753       1    5.0  ns8584                              thorne: sleepyhead   \n",
      "6037        1    5.0  ns3980                       charlie's colorforms city   \n",
      "3870        1    5.0  as6112                                          salome   \n",
      "2166        1    5.0  as9500                                      kept woman   \n",
      "1657        1    5.0  ns3663  frankenstein’s monster’s monster, frankenstein   \n",
      "1104        1    5.0  hs2381                               la diosa coronada   \n",
      "12168       1    5.0  ns5624                                    semana santa   \n",
      "528         1    4.5  ns2186                  latte and the magic waterstone   \n",
      "3298        1    4.5  ns8282                                    the drowning   \n",
      "4945        1    4.0  ns1358                                           rocks   \n",
      "4419        1    4.0   hs327                                   chaos walking   \n",
      "6573        1    4.0   ns128                              a cinderella story   \n",
      "\n",
      "                                               listed_in  \n",
      "14345                                          thrillers  \n",
      "5515   international tv shows, romantic tv shows, tv ...  \n",
      "11604                                       crime, drama  \n",
      "10513                            drama, horror, suspense  \n",
      "9947                                      drama, western  \n",
      "9350             crime tv shows, tv dramas, tv mysteries  \n",
      "8773                                       documentaries  \n",
      "8227                                            tv shows  \n",
      "12753                       dramas, international movies  \n",
      "6037                                            kids' tv  \n",
      "3870                                       international  \n",
      "2166                                     drama, suspense  \n",
      "1657                                            comedies  \n",
      "1104                                crime, drama, latino  \n",
      "12168                       dramas, international movies  \n",
      "528                   children & family movies, comedies  \n",
      "3298                                           thrillers  \n",
      "4945                                              dramas  \n",
      "4419                          adventure, science fiction  \n",
      "6573                  children & family movies, comedies  \n",
      "ID of the movies recommended:                                                     title\n",
      "13295                                          the tangle\n",
      "1304400  mission overview: nasa’s perseverance mars rover\n",
      "1373211                                            flicka\n",
      "3221199    alex fernández: the best comedian in the world\n",
      "5120538                                an hour and a half\n"
     ]
    }
   ],
   "source": [
    "#Vemos las películas que ve, y las que le hemos recomendado.\n",
    "movies_recommended = recommend_system(1, df_movies, svd, 5)\n",
    "print(f\"Movies user likes:\", check_movies_user(1, df_movies, 20))\n",
    "print(\"ID of the movies recommended:\", movies_recommended)"
   ]
  }
 ],
 "metadata": {
  "kernelspec": {
   "display_name": "Python 3",
   "language": "python",
   "name": "python3"
  },
  "language_info": {
   "codemirror_mode": {
    "name": "ipython",
    "version": 3
   },
   "file_extension": ".py",
   "mimetype": "text/x-python",
   "name": "python",
   "nbconvert_exporter": "python",
   "pygments_lexer": "ipython3",
   "version": "3.10.4"
  },
  "orig_nbformat": 4,
  "vscode": {
   "interpreter": {
    "hash": "e5f11924d8033a13dc768c0c8f86e7b3f629294c2fc048e0615c5c7ba9055796"
   }
  }
 },
 "nbformat": 4,
 "nbformat_minor": 2
}
